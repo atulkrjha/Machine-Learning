{
  "nbformat": 4,
  "nbformat_minor": 0,
  "metadata": {
    "colab": {
      "provenance": [],
      "collapsed_sections": []
    },
    "kernelspec": {
      "display_name": "Python 3",
      "language": "python",
      "name": "python3"
    },
    "language_info": {
      "codemirror_mode": {
        "name": "ipython",
        "version": 3
      },
      "file_extension": ".py",
      "mimetype": "text/x-python",
      "name": "python",
      "nbconvert_exporter": "python",
      "pygments_lexer": "ipython3",
      "version": "3.6.3"
    }
  },
  "cells": [
    {
      "cell_type": "markdown",
      "metadata": {
        "id": "s0Ej_bXyQvnV"
      },
      "source": [
        "# Compute performance metrics for the given Y and Y_score without sklearn"
      ]
    },
    {
      "cell_type": "code",
      "metadata": {
        "id": "4CHb6NE7Qvnc"
      },
      "source": [
        "import numpy as np\n",
        "import pandas as pd"
      ],
      "execution_count": 4,
      "outputs": []
    },
    {
      "cell_type": "code",
      "source": [
        "df_a=pd.read_csv('5_a.csv')\n",
        "df_a.head"
      ],
      "metadata": {
        "colab": {
          "base_uri": "https://localhost:8080/"
        },
        "id": "hiWhbTmDKYSe",
        "outputId": "8e8d3157-11e9-4fb5-f868-6075758996bb"
      },
      "execution_count": null,
      "outputs": [
        {
          "output_type": "execute_result",
          "data": {
            "text/plain": [
              "<bound method NDFrame.head of          y     proba\n",
              "0      1.0  0.637387\n",
              "1      1.0  0.635165\n",
              "2      1.0  0.766586\n",
              "3      1.0  0.724564\n",
              "4      1.0  0.889199\n",
              "...    ...       ...\n",
              "10095  1.0  0.665371\n",
              "10096  1.0  0.607961\n",
              "10097  1.0  0.777724\n",
              "10098  1.0  0.846036\n",
              "10099  1.0  0.679507\n",
              "\n",
              "[10100 rows x 2 columns]>"
            ]
          },
          "metadata": {},
          "execution_count": 15
        }
      ]
    },
    {
      "cell_type": "code",
      "source": [
        "df_a.groupby('y').nunique()"
      ],
      "metadata": {
        "colab": {
          "base_uri": "https://localhost:8080/",
          "height": 143
        },
        "id": "RCTYjL-LLBuK",
        "outputId": "07a1c8b8-816a-4cfc-cb90-6fe64c001a8f"
      },
      "execution_count": null,
      "outputs": [
        {
          "output_type": "execute_result",
          "data": {
            "text/plain": [
              "     proba\n",
              "y         \n",
              "0.0    100\n",
              "1.0  10000"
            ],
            "text/html": [
              "\n",
              "  <div id=\"df-84d2322a-f007-434f-ac98-1aaf3855a225\">\n",
              "    <div class=\"colab-df-container\">\n",
              "      <div>\n",
              "<style scoped>\n",
              "    .dataframe tbody tr th:only-of-type {\n",
              "        vertical-align: middle;\n",
              "    }\n",
              "\n",
              "    .dataframe tbody tr th {\n",
              "        vertical-align: top;\n",
              "    }\n",
              "\n",
              "    .dataframe thead th {\n",
              "        text-align: right;\n",
              "    }\n",
              "</style>\n",
              "<table border=\"1\" class=\"dataframe\">\n",
              "  <thead>\n",
              "    <tr style=\"text-align: right;\">\n",
              "      <th></th>\n",
              "      <th>proba</th>\n",
              "    </tr>\n",
              "    <tr>\n",
              "      <th>y</th>\n",
              "      <th></th>\n",
              "    </tr>\n",
              "  </thead>\n",
              "  <tbody>\n",
              "    <tr>\n",
              "      <th>0.0</th>\n",
              "      <td>100</td>\n",
              "    </tr>\n",
              "    <tr>\n",
              "      <th>1.0</th>\n",
              "      <td>10000</td>\n",
              "    </tr>\n",
              "  </tbody>\n",
              "</table>\n",
              "</div>\n",
              "      <button class=\"colab-df-convert\" onclick=\"convertToInteractive('df-84d2322a-f007-434f-ac98-1aaf3855a225')\"\n",
              "              title=\"Convert this dataframe to an interactive table.\"\n",
              "              style=\"display:none;\">\n",
              "        \n",
              "  <svg xmlns=\"http://www.w3.org/2000/svg\" height=\"24px\"viewBox=\"0 0 24 24\"\n",
              "       width=\"24px\">\n",
              "    <path d=\"M0 0h24v24H0V0z\" fill=\"none\"/>\n",
              "    <path d=\"M18.56 5.44l.94 2.06.94-2.06 2.06-.94-2.06-.94-.94-2.06-.94 2.06-2.06.94zm-11 1L8.5 8.5l.94-2.06 2.06-.94-2.06-.94L8.5 2.5l-.94 2.06-2.06.94zm10 10l.94 2.06.94-2.06 2.06-.94-2.06-.94-.94-2.06-.94 2.06-2.06.94z\"/><path d=\"M17.41 7.96l-1.37-1.37c-.4-.4-.92-.59-1.43-.59-.52 0-1.04.2-1.43.59L10.3 9.45l-7.72 7.72c-.78.78-.78 2.05 0 2.83L4 21.41c.39.39.9.59 1.41.59.51 0 1.02-.2 1.41-.59l7.78-7.78 2.81-2.81c.8-.78.8-2.07 0-2.86zM5.41 20L4 18.59l7.72-7.72 1.47 1.35L5.41 20z\"/>\n",
              "  </svg>\n",
              "      </button>\n",
              "      \n",
              "  <style>\n",
              "    .colab-df-container {\n",
              "      display:flex;\n",
              "      flex-wrap:wrap;\n",
              "      gap: 12px;\n",
              "    }\n",
              "\n",
              "    .colab-df-convert {\n",
              "      background-color: #E8F0FE;\n",
              "      border: none;\n",
              "      border-radius: 50%;\n",
              "      cursor: pointer;\n",
              "      display: none;\n",
              "      fill: #1967D2;\n",
              "      height: 32px;\n",
              "      padding: 0 0 0 0;\n",
              "      width: 32px;\n",
              "    }\n",
              "\n",
              "    .colab-df-convert:hover {\n",
              "      background-color: #E2EBFA;\n",
              "      box-shadow: 0px 1px 2px rgba(60, 64, 67, 0.3), 0px 1px 3px 1px rgba(60, 64, 67, 0.15);\n",
              "      fill: #174EA6;\n",
              "    }\n",
              "\n",
              "    [theme=dark] .colab-df-convert {\n",
              "      background-color: #3B4455;\n",
              "      fill: #D2E3FC;\n",
              "    }\n",
              "\n",
              "    [theme=dark] .colab-df-convert:hover {\n",
              "      background-color: #434B5C;\n",
              "      box-shadow: 0px 1px 3px 1px rgba(0, 0, 0, 0.15);\n",
              "      filter: drop-shadow(0px 1px 2px rgba(0, 0, 0, 0.3));\n",
              "      fill: #FFFFFF;\n",
              "    }\n",
              "  </style>\n",
              "\n",
              "      <script>\n",
              "        const buttonEl =\n",
              "          document.querySelector('#df-84d2322a-f007-434f-ac98-1aaf3855a225 button.colab-df-convert');\n",
              "        buttonEl.style.display =\n",
              "          google.colab.kernel.accessAllowed ? 'block' : 'none';\n",
              "\n",
              "        async function convertToInteractive(key) {\n",
              "          const element = document.querySelector('#df-84d2322a-f007-434f-ac98-1aaf3855a225');\n",
              "          const dataTable =\n",
              "            await google.colab.kernel.invokeFunction('convertToInteractive',\n",
              "                                                     [key], {});\n",
              "          if (!dataTable) return;\n",
              "\n",
              "          const docLinkHtml = 'Like what you see? Visit the ' +\n",
              "            '<a target=\"_blank\" href=https://colab.research.google.com/notebooks/data_table.ipynb>data table notebook</a>'\n",
              "            + ' to learn more about interactive tables.';\n",
              "          element.innerHTML = '';\n",
              "          dataTable['output_type'] = 'display_data';\n",
              "          await google.colab.output.renderOutput(dataTable, element);\n",
              "          const docLink = document.createElement('div');\n",
              "          docLink.innerHTML = docLinkHtml;\n",
              "          element.appendChild(docLink);\n",
              "        }\n",
              "      </script>\n",
              "    </div>\n",
              "  </div>\n",
              "  "
            ]
          },
          "metadata": {},
          "execution_count": 16
        }
      ]
    },
    {
      "cell_type": "markdown",
      "metadata": {
        "id": "KbsWXuDaQvnq"
      },
      "source": [
        "\n",
        "## A. Compute performance metrics for the given data '5_a.csv'\n",
        " <pre>  <b>Note 1:</b> The Number of positive datapoint >> number of negative datapoint.\n",
        "   <b>Note 2:</b> we will only use pandas or numpy to read the data from <b>5_a.csv</b>\n",
        "   <b>Note 3:</b> we need to derive the class labels from given score</pre> $y^{pred}= \\text{[0 if y_score < 0.5 else 1]}$\n",
        "\n",
        "<pre>\n",
        "<b>Tasks</b>\n",
        "<ol>\n",
        "<li> Compute Confusion Matrix </li>\n",
        "<li> Compute F1 Score </li>\n",
        "<li> Compute AUC Score, we need to compute different thresholds and for each threshold we have to compute\n",
        "tpr,fpr and then we can use numpy.trapz(tpr_array, fpr_array) \n",
        "<a href='https://stackoverflow.com/q/53603376/4084039'>https://stackoverflow.com/q/53603376/4084039</a>,\n",
        "<a href='https://stackoverflow.com/a/39678975/4084039'>https://stackoverflow.com/a/39678975/4084039</a>\n",
        "Note: This should be numpy.trapz(tpr_array, fpr_array) not numpy.trapz(fpr_array, tpr_array)\n",
        "\n",
        "Note- Make sure that you arrange your probability scores in descending order while calculating AUC</li>\n",
        "\n",
        "<li> Compute Accuracy Score </li>\n",
        "</ol>\n",
        "</pre>"
      ]
    },
    {
      "cell_type": "markdown",
      "source": [
        "##Confusion Matrix"
      ],
      "metadata": {
        "id": "ojMFDlFuYuM8"
      }
    },
    {
      "cell_type": "code",
      "source": [
        "df_a['y_pred'] = np.where(df_a['proba']<0.5, 0, 1)"
      ],
      "metadata": {
        "id": "NdXHW9wGzF3l"
      },
      "execution_count": null,
      "outputs": []
    },
    {
      "cell_type": "code",
      "source": [
        "#1 Confusion Matrix:\n",
        "from sklearn.metrics import confusion_matrix\n",
        "\n",
        "def confusion_matrix_scratch(data, direct = 0):\n",
        "  # Adding column y_pred where proba < 0.5 as 0 and where proba > 0.5 as 1\n",
        "  \n",
        "  TN = data[(data['y_pred']==0) & (data['y']==0)].shape[0]\n",
        "  FN = data[(data['y_pred']==0) & (data['y']==1)].shape[0]\n",
        "  FP = data[(data['y_pred']==1) & (data['y']==0)].shape[0]\n",
        "  TP = data[(data['y_pred']==1) & (data['y']==1)].shape[0]\n",
        "\n",
        "  \n",
        "  \n",
        "  tn, fp, fn, tp = confusion_matrix(data['y'], data['y_pred']).ravel()\n",
        "\n",
        "  if(direct == 1):\n",
        "    print(\"Computed from sklearn library -----\")\n",
        "    print(\"True Negative : {0}\".format(tn))\n",
        "    print(\"false Positive : {0}\".format(fp))\n",
        "    print(\"false Negative : {0}\".format(fn))\n",
        "    print(\"True Positive : {0}\".format(tp))\n",
        "\n",
        "    print(\"Computed from Scratch Code -------\")\n",
        "    print(\"True Negative : {0}\".format(TN))\n",
        "    print(\"false Positive : {0}\".format(FP))\n",
        "    print(\"false Negative : {0}\".format(FN))\n",
        "    print(\"True Positive : {0}\".format(TP)) \n",
        "\n",
        "  else:\n",
        "    return (TN, FN, FP, TP)\n",
        "\n",
        "\n"
      ],
      "metadata": {
        "id": "BccWo4jPN00C"
      },
      "execution_count": null,
      "outputs": []
    },
    {
      "cell_type": "code",
      "source": [
        "from mlxtend.plotting import plot_confusion_matrix\n",
        "from mlxtend.evaluate import confusion_matrix\n",
        "import matplotlib.pyplot as plt\n",
        "\n",
        "def confusion_matrix_prebuilt(data):\n",
        "  data['y_pred'] = np.where(data['proba']<0.5, 0, 1)\n",
        "  conf_matrix = confusion_matrix(y_target=data['y'], y_predicted=data['y_pred']) \n",
        "  print(conf_matrix)\n",
        "  fig, ax = plot_confusion_matrix(conf_mat=conf_matrix, figsize=(6, 6))\n",
        "  plt.xlabel('Predictions', fontsize=18)\n",
        "  plt.ylabel('Actuals', fontsize=18)\n",
        "  plt.title('Confusion Matrix', fontsize=18)\n",
        "  plt.show()\n",
        "\n",
        "\n",
        "confusion_matrix_prebuilt(df_a)"
      ],
      "metadata": {
        "colab": {
          "base_uri": "https://localhost:8080/",
          "height": 467
        },
        "id": "d59BYPRzW8ZH",
        "outputId": "d42ccc9d-b9ea-431e-adec-aedc00b800e8"
      },
      "execution_count": null,
      "outputs": [
        {
          "output_type": "stream",
          "name": "stdout",
          "text": [
            "[[    0   100]\n",
            " [    0 10000]]\n"
          ]
        },
        {
          "output_type": "display_data",
          "data": {
            "text/plain": [
              "<Figure size 432x432 with 1 Axes>"
            ],
            "image/png": "[encoded data removed]"
          },
          "metadata": {
            "needs_background": "light"
          }
        }
      ]
    },
    {
      "cell_type": "markdown",
      "source": [
        "##F1 Score"
      ],
      "metadata": {
        "id": "GVdq0iQ8Y0-c"
      }
    },
    {
      "cell_type": "code",
      "source": [
        "# formula for F1 score = 2*precision*recall/(precision+recall)\n",
        "from sklearn.metrics import confusion_matrix, f1_score\n",
        "\n",
        "def F1_score_scratch(data):\n",
        "  TN, FN, FP, TP = confusion_matrix_scratch(data)\n",
        "  precision = TP/(FP+TP)\n",
        "  recall = TP/(FN+TP)\n",
        "\n",
        "  print(\"F1_Score from SKlearn library : {}\".format(f1_score(data['y'], data['y_pred'])))\n",
        "\n",
        "  print(\"F1_Score from Scratch Code : {}\".format((2*precision*recall)/(precision+recall)))\n",
        "\n"
      ],
      "metadata": {
        "id": "qWdx29YbY0k-"
      },
      "execution_count": null,
      "outputs": []
    },
    {
      "cell_type": "markdown",
      "source": [
        "# Accuracy Score"
      ],
      "metadata": {
        "id": "YzhM5vbfVdQP"
      }
    },
    {
      "cell_type": "code",
      "source": [
        "from sklearn.metrics import accuracy_score\n",
        "\n",
        "def accuracy_score_scratch(data):\n",
        "  print(\"Accuracy Score from Scratch : {}\".format(accuracy_score(data['y'], data['y_pred'])))\n",
        "  print(\"Accuracy Score from SKlearn : {}\".format(((data[data['y']==data['y_pred']]).shape[0]/(data.shape[0]))))\n"
      ],
      "metadata": {
        "id": "LTPqcKNDVcyy"
      },
      "execution_count": null,
      "outputs": []
    },
    {
      "cell_type": "markdown",
      "source": [
        "#AUC"
      ],
      "metadata": {
        "id": "-e49yzceW3gu"
      }
    },
    {
      "cell_type": "code",
      "source": [
        "from sklearn import metrics\n",
        "def AUC(data):\n",
        "  rslt_df = data.sort_values(by = 'proba', ascending = False)\n",
        "  tpr = []\n",
        "  fpr = []\n",
        "  for value in rslt_df['proba']:\n",
        "    data['y_pred'] = np.where(data['proba'] < value, 0, 1)\n",
        "    TN, FN, FP, TP = confusion_matrix_scratch(data)\n",
        "\n",
        "    tpr.append(TP/(TP+FN))\n",
        "    fpr.append(FP/(TN+FP))\n",
        "\n",
        "  #fpr, tpr, thresholds = metrics.roc_curve(y, pred, pos_label=2)\n",
        "  print(\"AUC as per sklearn : {}\".format(metrics.auc(fpr, tpr)))\n",
        "  print(\"AUC as per Code : {}\".format(np.trapz(tpr, fpr)))\n",
        "\n",
        "  "
      ],
      "metadata": {
        "id": "RJrUKdSCW5dl"
      },
      "execution_count": null,
      "outputs": []
    },
    {
      "cell_type": "code",
      "source": [
        "# Confusion Matrix\n",
        "confusion_matrix_scratch(df_a, direct =1)\n",
        "\n",
        "# F1 Score \n",
        "F1_score_scratch(df_a)\n",
        "\n",
        "# AUC\n",
        "AUC(df_a)\n",
        "\n",
        "# Accuracy Score\n",
        "accuracy_score_scratch(df_a)\n",
        "\n"
      ],
      "metadata": {
        "colab": {
          "base_uri": "https://localhost:8080/"
        },
        "id": "XPwUmknkuLn2",
        "outputId": "23815f76-73f1-4da6-fcbe-67df6a98c375"
      },
      "execution_count": null,
      "outputs": [
        {
          "output_type": "stream",
          "name": "stdout",
          "text": [
            "Computed from sklearn library -----\n",
            "True Negative : 0\n",
            "false Positive : 100\n",
            "false Negative : 0\n",
            "True Positive : 10000\n",
            "Computed from Scratch Code -------\n",
            "True Negative : 0\n",
            "false Positive : 100\n",
            "false Negative : 0\n",
            "True Positive : 10000\n",
            "F1_Score from SKlearn library : 0.9950248756218906\n",
            "F1_Score from Scratch Code : 0.9950248756218906\n",
            "AUC as per sklearn : 0.48829900000000004\n",
            "AUC as per Code : 0.48829900000000004\n",
            "Accuracy Score from Scratch : 0.9900990099009901\n",
            "Accuracy Score from SKlearn : 0.9900990099009901\n"
          ]
        }
      ]
    },
    {
      "cell_type": "markdown",
      "metadata": {
        "id": "V5KZem1BQvn2"
      },
      "source": [
        "\n",
        "\n",
        "## B. Compute performance metrics for the given data '5_b.csv'\n",
        "<pre>\n",
        "   <b>Note 1:</b> in this data we can see number of positive points << number of negatives points\n",
        "   <b>Note 2:</b> we will only use pandas or numpy to read the data from <b>5_b.csv</b>\n",
        "   <b>Note 3:</b> we need to derive the class labels from given score</pre> $y^{pred}= \\text{[0 if y_score < 0.5 else 1]}$\n",
        "\n",
        "<pre>\n",
        "<ol>\n",
        "<li> Compute Confusion Matrix </li>\n",
        "<li> Compute F1 Score </li>\n",
        "<li> Compute AUC Score, we need to compute different thresholds and for each threshold compute tpr,fpr and then use               numpy.trapz(tpr_array, fpr_array) <a href='https://stackoverflow.com/q/53603376/4084039'>https://stackoverflow.com/q/53603376/4084039</a>, <a href='https://stackoverflow.com/a/39678975/4084039'>https://stackoverflow.com/a/39678975/4084039</a>\n",
        "Note-We have to make sure that you arrange your probability scores in descending order while calculating AUC</li>\n",
        "<li> Compute Accuracy Score </li>\n",
        "</ol>\n",
        "</pre>"
      ]
    },
    {
      "cell_type": "code",
      "metadata": {
        "id": "U2sKlq0YQvn5",
        "colab": {
          "base_uri": "https://localhost:8080/",
          "height": 206
        },
        "outputId": "45cc1398-7cde-4308-cfac-8e2e03e87ab4"
      },
      "source": [
        "del df_a\n",
        "df_b=pd.read_csv('5_b.csv')\n",
        "#df_b['y_pred'] = np.where(df_b['proba']<0.5, 0, 1)\n",
        "df_b.head()"
      ],
      "execution_count": null,
      "outputs": [
        {
          "output_type": "execute_result",
          "data": {
            "text/plain": [
              "     y     proba\n",
              "0  0.0  0.281035\n",
              "1  0.0  0.465152\n",
              "2  0.0  0.352793\n",
              "3  0.0  0.157818\n",
              "4  0.0  0.276648"
            ],
            "text/html": [
              "\n",
              "  <div id=\"df-1ac9fc3e-ee92-4a1a-bdaa-e5737d4afa99\">\n",
              "    <div class=\"colab-df-container\">\n",
              "      <div>\n",
              "<style scoped>\n",
              "    .dataframe tbody tr th:only-of-type {\n",
              "        vertical-align: middle;\n",
              "    }\n",
              "\n",
              "    .dataframe tbody tr th {\n",
              "        vertical-align: top;\n",
              "    }\n",
              "\n",
              "    .dataframe thead th {\n",
              "        text-align: right;\n",
              "    }\n",
              "</style>\n",
              "<table border=\"1\" class=\"dataframe\">\n",
              "  <thead>\n",
              "    <tr style=\"text-align: right;\">\n",
              "      <th></th>\n",
              "      <th>y</th>\n",
              "      <th>proba</th>\n",
              "    </tr>\n",
              "  </thead>\n",
              "  <tbody>\n",
              "    <tr>\n",
              "      <th>0</th>\n",
              "      <td>0.0</td>\n",
              "      <td>0.281035</td>\n",
              "    </tr>\n",
              "    <tr>\n",
              "      <th>1</th>\n",
              "      <td>0.0</td>\n",
              "      <td>0.465152</td>\n",
              "    </tr>\n",
              "    <tr>\n",
              "      <th>2</th>\n",
              "      <td>0.0</td>\n",
              "      <td>0.352793</td>\n",
              "    </tr>\n",
              "    <tr>\n",
              "      <th>3</th>\n",
              "      <td>0.0</td>\n",
              "      <td>0.157818</td>\n",
              "    </tr>\n",
              "    <tr>\n",
              "      <th>4</th>\n",
              "      <td>0.0</td>\n",
              "      <td>0.276648</td>\n",
              "    </tr>\n",
              "  </tbody>\n",
              "</table>\n",
              "</div>\n",
              "      <button class=\"colab-df-convert\" onclick=\"convertToInteractive('df-1ac9fc3e-ee92-4a1a-bdaa-e5737d4afa99')\"\n",
              "              title=\"Convert this dataframe to an interactive table.\"\n",
              "              style=\"display:none;\">\n",
              "        \n",
              "  <svg xmlns=\"http://www.w3.org/2000/svg\" height=\"24px\"viewBox=\"0 0 24 24\"\n",
              "       width=\"24px\">\n",
              "    <path d=\"M0 0h24v24H0V0z\" fill=\"none\"/>\n",
              "    <path d=\"M18.56 5.44l.94 2.06.94-2.06 2.06-.94-2.06-.94-.94-2.06-.94 2.06-2.06.94zm-11 1L8.5 8.5l.94-2.06 2.06-.94-2.06-.94L8.5 2.5l-.94 2.06-2.06.94zm10 10l.94 2.06.94-2.06 2.06-.94-2.06-.94-.94-2.06-.94 2.06-2.06.94z\"/><path d=\"M17.41 7.96l-1.37-1.37c-.4-.4-.92-.59-1.43-.59-.52 0-1.04.2-1.43.59L10.3 9.45l-7.72 7.72c-.78.78-.78 2.05 0 2.83L4 21.41c.39.39.9.59 1.41.59.51 0 1.02-.2 1.41-.59l7.78-7.78 2.81-2.81c.8-.78.8-2.07 0-2.86zM5.41 20L4 18.59l7.72-7.72 1.47 1.35L5.41 20z\"/>\n",
              "  </svg>\n",
              "      </button>\n",
              "      \n",
              "  <style>\n",
              "    .colab-df-container {\n",
              "      display:flex;\n",
              "      flex-wrap:wrap;\n",
              "      gap: 12px;\n",
              "    }\n",
              "\n",
              "    .colab-df-convert {\n",
              "      background-color: #E8F0FE;\n",
              "      border: none;\n",
              "      border-radius: 50%;\n",
              "      cursor: pointer;\n",
              "      display: none;\n",
              "      fill: #1967D2;\n",
              "      height: 32px;\n",
              "      padding: 0 0 0 0;\n",
              "      width: 32px;\n",
              "    }\n",
              "\n",
              "    .colab-df-convert:hover {\n",
              "      background-color: #E2EBFA;\n",
              "      box-shadow: 0px 1px 2px rgba(60, 64, 67, 0.3), 0px 1px 3px 1px rgba(60, 64, 67, 0.15);\n",
              "      fill: #174EA6;\n",
              "    }\n",
              "\n",
              "    [theme=dark] .colab-df-convert {\n",
              "      background-color: #3B4455;\n",
              "      fill: #D2E3FC;\n",
              "    }\n",
              "\n",
              "    [theme=dark] .colab-df-convert:hover {\n",
              "      background-color: #434B5C;\n",
              "      box-shadow: 0px 1px 3px 1px rgba(0, 0, 0, 0.15);\n",
              "      filter: drop-shadow(0px 1px 2px rgba(0, 0, 0, 0.3));\n",
              "      fill: #FFFFFF;\n",
              "    }\n",
              "  </style>\n",
              "\n",
              "      <script>\n",
              "        const buttonEl =\n",
              "          document.querySelector('#df-1ac9fc3e-ee92-4a1a-bdaa-e5737d4afa99 button.colab-df-convert');\n",
              "        buttonEl.style.display =\n",
              "          google.colab.kernel.accessAllowed ? 'block' : 'none';\n",
              "\n",
              "        async function convertToInteractive(key) {\n",
              "          const element = document.querySelector('#df-1ac9fc3e-ee92-4a1a-bdaa-e5737d4afa99');\n",
              "          const dataTable =\n",
              "            await google.colab.kernel.invokeFunction('convertToInteractive',\n",
              "                                                     [key], {});\n",
              "          if (!dataTable) return;\n",
              "\n",
              "          const docLinkHtml = 'Like what you see? Visit the ' +\n",
              "            '<a target=\"_blank\" href=https://colab.research.google.com/notebooks/data_table.ipynb>data table notebook</a>'\n",
              "            + ' to learn more about interactive tables.';\n",
              "          element.innerHTML = '';\n",
              "          dataTable['output_type'] = 'display_data';\n",
              "          await google.colab.output.renderOutput(dataTable, element);\n",
              "          const docLink = document.createElement('div');\n",
              "          docLink.innerHTML = docLinkHtml;\n",
              "          element.appendChild(docLink);\n",
              "        }\n",
              "      </script>\n",
              "    </div>\n",
              "  </div>\n",
              "  "
            ]
          },
          "metadata": {},
          "execution_count": 40
        }
      ]
    },
    {
      "cell_type": "code",
      "metadata": {
        "id": "xlLVa-cVAfCS",
        "colab": {
          "base_uri": "https://localhost:8080/"
        },
        "outputId": "d5ffff71-710b-444f-962f-aa2d6e3aef5b"
      },
      "source": [
        "df_b['y_pred'] = np.where(df_b['proba']<0.5, 0, 1)\n",
        "# Confusion Matrix\n",
        "confusion_matrix_scratch(df_b, direct =1)\n",
        "\n",
        "# F1 Score \n",
        "F1_score_scratch(df_b)\n",
        "\n",
        "# Accuracy Score\n",
        "accuracy_score_scratch(df_b)\n",
        "\n",
        "# AUC\n",
        "AUC(df_b)\n",
        "\n",
        "\n"
      ],
      "execution_count": null,
      "outputs": [
        {
          "output_type": "stream",
          "name": "stdout",
          "text": [
            "Computed from sklearn library -----\n",
            "True Negative : 9761\n",
            "false Positive : 239\n",
            "false Negative : 45\n",
            "True Positive : 55\n",
            "Computed from Scratch Code -------\n",
            "True Negative : 9761\n",
            "false Positive : 239\n",
            "false Negative : 45\n",
            "True Positive : 55\n",
            "F1_Score from SKlearn library : 0.2791878172588833\n",
            "F1_Score from Scratch Code : 0.2791878172588833\n",
            "Accuracy Score from Scratch : 0.9718811881188119\n",
            "Accuracy Score from SKlearn : 0.9718811881188119\n",
            "AUC as per sklearn : 0.9377570000000001\n",
            "AUC as per Code : 0.9377570000000001\n"
          ]
        }
      ]
    },
    {
      "cell_type": "markdown",
      "metadata": {
        "id": "GiPGonTzQvoB"
      },
      "source": [
        "### C. Compute the best threshold (similarly to ROC curve computation) of probability which gives lowest values of metric <b>A</b> for the given data \n",
        "<br>\n",
        "\n",
        "we will be predicting label of a data points like this: $y^{pred}= \\text{[0 if y_score < threshold  else 1]}$\n",
        "\n",
        "$ A = 500 \\times \\text{number of false negative} + 100 \\times \\text{numebr of false positive}$\n",
        "\n",
        "<pre>\n",
        "   <b>Note 1:</b> in this data we can see number of negative points > number of positive points\n",
        "   <b>Note 2:</b> use pandas or numpy to read the data from <b>5_c.csv</b>\n",
        "</pre>"
      ]
    },
    {
      "cell_type": "code",
      "metadata": {
        "id": "x5HIJzq1QvoE",
        "colab": {
          "base_uri": "https://localhost:8080/",
          "height": 206
        },
        "outputId": "cdf6a960-ea56-419f-9cae-04e67eddda98"
      },
      "source": [
        "df_c=pd.read_csv('5_c.csv')\n",
        "df_c.head()"
      ],
      "execution_count": null,
      "outputs": [
        {
          "output_type": "execute_result",
          "data": {
            "text/plain": [
              "   y      prob\n",
              "0  0  0.458521\n",
              "1  0  0.505037\n",
              "2  0  0.418652\n",
              "3  0  0.412057\n",
              "4  0  0.375579"
            ],
            "text/html": [
              "\n",
              "  <div id=\"df-1810517c-031d-444b-b1bb-acd45e47b08c\">\n",
              "    <div class=\"colab-df-container\">\n",
              "      <div>\n",
              "<style scoped>\n",
              "    .dataframe tbody tr th:only-of-type {\n",
              "        vertical-align: middle;\n",
              "    }\n",
              "\n",
              "    .dataframe tbody tr th {\n",
              "        vertical-align: top;\n",
              "    }\n",
              "\n",
              "    .dataframe thead th {\n",
              "        text-align: right;\n",
              "    }\n",
              "</style>\n",
              "<table border=\"1\" class=\"dataframe\">\n",
              "  <thead>\n",
              "    <tr style=\"text-align: right;\">\n",
              "      <th></th>\n",
              "      <th>y</th>\n",
              "      <th>prob</th>\n",
              "    </tr>\n",
              "  </thead>\n",
              "  <tbody>\n",
              "    <tr>\n",
              "      <th>0</th>\n",
              "      <td>0</td>\n",
              "      <td>0.458521</td>\n",
              "    </tr>\n",
              "    <tr>\n",
              "      <th>1</th>\n",
              "      <td>0</td>\n",
              "      <td>0.505037</td>\n",
              "    </tr>\n",
              "    <tr>\n",
              "      <th>2</th>\n",
              "      <td>0</td>\n",
              "      <td>0.418652</td>\n",
              "    </tr>\n",
              "    <tr>\n",
              "      <th>3</th>\n",
              "      <td>0</td>\n",
              "      <td>0.412057</td>\n",
              "    </tr>\n",
              "    <tr>\n",
              "      <th>4</th>\n",
              "      <td>0</td>\n",
              "      <td>0.375579</td>\n",
              "    </tr>\n",
              "  </tbody>\n",
              "</table>\n",
              "</div>\n",
              "      <button class=\"colab-df-convert\" onclick=\"convertToInteractive('df-1810517c-031d-444b-b1bb-acd45e47b08c')\"\n",
              "              title=\"Convert this dataframe to an interactive table.\"\n",
              "              style=\"display:none;\">\n",
              "        \n",
              "  <svg xmlns=\"http://www.w3.org/2000/svg\" height=\"24px\"viewBox=\"0 0 24 24\"\n",
              "       width=\"24px\">\n",
              "    <path d=\"M0 0h24v24H0V0z\" fill=\"none\"/>\n",
              "    <path d=\"M18.56 5.44l.94 2.06.94-2.06 2.06-.94-2.06-.94-.94-2.06-.94 2.06-2.06.94zm-11 1L8.5 8.5l.94-2.06 2.06-.94-2.06-.94L8.5 2.5l-.94 2.06-2.06.94zm10 10l.94 2.06.94-2.06 2.06-.94-2.06-.94-.94-2.06-.94 2.06-2.06.94z\"/><path d=\"M17.41 7.96l-1.37-1.37c-.4-.4-.92-.59-1.43-.59-.52 0-1.04.2-1.43.59L10.3 9.45l-7.72 7.72c-.78.78-.78 2.05 0 2.83L4 21.41c.39.39.9.59 1.41.59.51 0 1.02-.2 1.41-.59l7.78-7.78 2.81-2.81c.8-.78.8-2.07 0-2.86zM5.41 20L4 18.59l7.72-7.72 1.47 1.35L5.41 20z\"/>\n",
              "  </svg>\n",
              "      </button>\n",
              "      \n",
              "  <style>\n",
              "    .colab-df-container {\n",
              "      display:flex;\n",
              "      flex-wrap:wrap;\n",
              "      gap: 12px;\n",
              "    }\n",
              "\n",
              "    .colab-df-convert {\n",
              "      background-color: #E8F0FE;\n",
              "      border: none;\n",
              "      border-radius: 50%;\n",
              "      cursor: pointer;\n",
              "      display: none;\n",
              "      fill: #1967D2;\n",
              "      height: 32px;\n",
              "      padding: 0 0 0 0;\n",
              "      width: 32px;\n",
              "    }\n",
              "\n",
              "    .colab-df-convert:hover {\n",
              "      background-color: #E2EBFA;\n",
              "      box-shadow: 0px 1px 2px rgba(60, 64, 67, 0.3), 0px 1px 3px 1px rgba(60, 64, 67, 0.15);\n",
              "      fill: #174EA6;\n",
              "    }\n",
              "\n",
              "    [theme=dark] .colab-df-convert {\n",
              "      background-color: #3B4455;\n",
              "      fill: #D2E3FC;\n",
              "    }\n",
              "\n",
              "    [theme=dark] .colab-df-convert:hover {\n",
              "      background-color: #434B5C;\n",
              "      box-shadow: 0px 1px 3px 1px rgba(0, 0, 0, 0.15);\n",
              "      filter: drop-shadow(0px 1px 2px rgba(0, 0, 0, 0.3));\n",
              "      fill: #FFFFFF;\n",
              "    }\n",
              "  </style>\n",
              "\n",
              "      <script>\n",
              "        const buttonEl =\n",
              "          document.querySelector('#df-1810517c-031d-444b-b1bb-acd45e47b08c button.colab-df-convert');\n",
              "        buttonEl.style.display =\n",
              "          google.colab.kernel.accessAllowed ? 'block' : 'none';\n",
              "\n",
              "        async function convertToInteractive(key) {\n",
              "          const element = document.querySelector('#df-1810517c-031d-444b-b1bb-acd45e47b08c');\n",
              "          const dataTable =\n",
              "            await google.colab.kernel.invokeFunction('convertToInteractive',\n",
              "                                                     [key], {});\n",
              "          if (!dataTable) return;\n",
              "\n",
              "          const docLinkHtml = 'Like what you see? Visit the ' +\n",
              "            '<a target=\"_blank\" href=https://colab.research.google.com/notebooks/data_table.ipynb>data table notebook</a>'\n",
              "            + ' to learn more about interactive tables.';\n",
              "          element.innerHTML = '';\n",
              "          dataTable['output_type'] = 'display_data';\n",
              "          await google.colab.output.renderOutput(dataTable, element);\n",
              "          const docLink = document.createElement('div');\n",
              "          docLink.innerHTML = docLinkHtml;\n",
              "          element.appendChild(docLink);\n",
              "        }\n",
              "      </script>\n",
              "    </div>\n",
              "  </div>\n",
              "  "
            ]
          },
          "metadata": {},
          "execution_count": 44
        }
      ]
    },
    {
      "cell_type": "code",
      "metadata": {
        "id": "eAPjewjzAfCa",
        "colab": {
          "base_uri": "https://localhost:8080/"
        },
        "outputId": "240589c2-286d-4a29-a6b7-51344b73d22d"
      },
      "source": [
        "from sklearn import metrics\n",
        "def ROC_value(data):\n",
        "  rslt_df = data.sort_values(by = 'prob', ascending = False)\n",
        "  ROC = {}\n",
        "  for value in rslt_df['prob']:\n",
        "    data['y_pred'] = np.where(data['prob'] < value, 0, 1)\n",
        "    TN, FN, FP, TP = confusion_matrix_scratch(data)\n",
        "\n",
        "    ROC[value] = 500*FN + 100*FP\n",
        "\n",
        "  thres_low =  min(ROC, key=ROC.get)\n",
        "\n",
        "  return thres_low\n",
        "\n",
        "\n",
        "print(ROC_value(df_c))"
      ],
      "execution_count": null,
      "outputs": [
        {
          "output_type": "stream",
          "name": "stdout",
          "text": [
            "0.2300390278970873\n"
          ]
        }
      ]
    },
    {
      "cell_type": "markdown",
      "metadata": {
        "id": "sD4CcgjXQvoL"
      },
      "source": [
        "\n",
        "## D.</b></font> Compute performance metrics(for regression) for the given data 5_d.csv\n",
        "<pre>    <b>Note 2:</b> use pandas or numpy to read the data from <b>5_d.csv</b>\n",
        "    <b>Note 1:</b> <b>5_d.csv</b> will having two columns Y and predicted_Y both are real valued features\n",
        "<ol>\n",
        "<li> Compute Mean Square Error </li>\n",
        "<li> Compute MAPE: https://en.wikipedia.org/wiki/Mean_absolute_percentage_error</li>\n",
        "<li> Compute R^2 error: https://en.wikipedia.org/wiki/Coefficient_of_determination#Definitions </li>\n",
        "</ol>\n",
        "</pre>"
      ]
    },
    {
      "cell_type": "code",
      "metadata": {
        "id": "sVOj-bF9AfCd",
        "colab": {
          "base_uri": "https://localhost:8080/",
          "height": 206
        },
        "outputId": "4f4250eb-88bb-4ea8-ce61-3bb4f01e511e"
      },
      "source": [
        "df_d=pd.read_csv('/content/drive/MyDrive/DIPLOMA/Assignments/5_Performance_metrics/5_d.csv')\n",
        "df_d.head()"
      ],
      "execution_count": 6,
      "outputs": [
        {
          "output_type": "execute_result",
          "data": {
            "text/plain": [
              "       y   pred\n",
              "0  101.0  100.0\n",
              "1  120.0  100.0\n",
              "2  131.0  113.0\n",
              "3  164.0  125.0\n",
              "4  154.0  152.0"
            ],
            "text/html": [
              "\n",
              "  <div id=\"df-351fe69c-b4a7-4720-80d3-2af1f5baf6eb\">\n",
              "    <div class=\"colab-df-container\">\n",
              "      <div>\n",
              "<style scoped>\n",
              "    .dataframe tbody tr th:only-of-type {\n",
              "        vertical-align: middle;\n",
              "    }\n",
              "\n",
              "    .dataframe tbody tr th {\n",
              "        vertical-align: top;\n",
              "    }\n",
              "\n",
              "    .dataframe thead th {\n",
              "        text-align: right;\n",
              "    }\n",
              "</style>\n",
              "<table border=\"1\" class=\"dataframe\">\n",
              "  <thead>\n",
              "    <tr style=\"text-align: right;\">\n",
              "      <th></th>\n",
              "      <th>y</th>\n",
              "      <th>pred</th>\n",
              "    </tr>\n",
              "  </thead>\n",
              "  <tbody>\n",
              "    <tr>\n",
              "      <th>0</th>\n",
              "      <td>101.0</td>\n",
              "      <td>100.0</td>\n",
              "    </tr>\n",
              "    <tr>\n",
              "      <th>1</th>\n",
              "      <td>120.0</td>\n",
              "      <td>100.0</td>\n",
              "    </tr>\n",
              "    <tr>\n",
              "      <th>2</th>\n",
              "      <td>131.0</td>\n",
              "      <td>113.0</td>\n",
              "    </tr>\n",
              "    <tr>\n",
              "      <th>3</th>\n",
              "      <td>164.0</td>\n",
              "      <td>125.0</td>\n",
              "    </tr>\n",
              "    <tr>\n",
              "      <th>4</th>\n",
              "      <td>154.0</td>\n",
              "      <td>152.0</td>\n",
              "    </tr>\n",
              "  </tbody>\n",
              "</table>\n",
              "</div>\n",
              "      <button class=\"colab-df-convert\" onclick=\"convertToInteractive('df-351fe69c-b4a7-4720-80d3-2af1f5baf6eb')\"\n",
              "              title=\"Convert this dataframe to an interactive table.\"\n",
              "              style=\"display:none;\">\n",
              "        \n",
              "  <svg xmlns=\"http://www.w3.org/2000/svg\" height=\"24px\"viewBox=\"0 0 24 24\"\n",
              "       width=\"24px\">\n",
              "    <path d=\"M0 0h24v24H0V0z\" fill=\"none\"/>\n",
              "    <path d=\"M18.56 5.44l.94 2.06.94-2.06 2.06-.94-2.06-.94-.94-2.06-.94 2.06-2.06.94zm-11 1L8.5 8.5l.94-2.06 2.06-.94-2.06-.94L8.5 2.5l-.94 2.06-2.06.94zm10 10l.94 2.06.94-2.06 2.06-.94-2.06-.94-.94-2.06-.94 2.06-2.06.94z\"/><path d=\"M17.41 7.96l-1.37-1.37c-.4-.4-.92-.59-1.43-.59-.52 0-1.04.2-1.43.59L10.3 9.45l-7.72 7.72c-.78.78-.78 2.05 0 2.83L4 21.41c.39.39.9.59 1.41.59.51 0 1.02-.2 1.41-.59l7.78-7.78 2.81-2.81c.8-.78.8-2.07 0-2.86zM5.41 20L4 18.59l7.72-7.72 1.47 1.35L5.41 20z\"/>\n",
              "  </svg>\n",
              "      </button>\n",
              "      \n",
              "  <style>\n",
              "    .colab-df-container {\n",
              "      display:flex;\n",
              "      flex-wrap:wrap;\n",
              "      gap: 12px;\n",
              "    }\n",
              "\n",
              "    .colab-df-convert {\n",
              "      background-color: #E8F0FE;\n",
              "      border: none;\n",
              "      border-radius: 50%;\n",
              "      cursor: pointer;\n",
              "      display: none;\n",
              "      fill: #1967D2;\n",
              "      height: 32px;\n",
              "      padding: 0 0 0 0;\n",
              "      width: 32px;\n",
              "    }\n",
              "\n",
              "    .colab-df-convert:hover {\n",
              "      background-color: #E2EBFA;\n",
              "      box-shadow: 0px 1px 2px rgba(60, 64, 67, 0.3), 0px 1px 3px 1px rgba(60, 64, 67, 0.15);\n",
              "      fill: #174EA6;\n",
              "    }\n",
              "\n",
              "    [theme=dark] .colab-df-convert {\n",
              "      background-color: #3B4455;\n",
              "      fill: #D2E3FC;\n",
              "    }\n",
              "\n",
              "    [theme=dark] .colab-df-convert:hover {\n",
              "      background-color: #434B5C;\n",
              "      box-shadow: 0px 1px 3px 1px rgba(0, 0, 0, 0.15);\n",
              "      filter: drop-shadow(0px 1px 2px rgba(0, 0, 0, 0.3));\n",
              "      fill: #FFFFFF;\n",
              "    }\n",
              "  </style>\n",
              "\n",
              "      <script>\n",
              "        const buttonEl =\n",
              "          document.querySelector('#df-351fe69c-b4a7-4720-80d3-2af1f5baf6eb button.colab-df-convert');\n",
              "        buttonEl.style.display =\n",
              "          google.colab.kernel.accessAllowed ? 'block' : 'none';\n",
              "\n",
              "        async function convertToInteractive(key) {\n",
              "          const element = document.querySelector('#df-351fe69c-b4a7-4720-80d3-2af1f5baf6eb');\n",
              "          const dataTable =\n",
              "            await google.colab.kernel.invokeFunction('convertToInteractive',\n",
              "                                                     [key], {});\n",
              "          if (!dataTable) return;\n",
              "\n",
              "          const docLinkHtml = 'Like what you see? Visit the ' +\n",
              "            '<a target=\"_blank\" href=https://colab.research.google.com/notebooks/data_table.ipynb>data table notebook</a>'\n",
              "            + ' to learn more about interactive tables.';\n",
              "          element.innerHTML = '';\n",
              "          dataTable['output_type'] = 'display_data';\n",
              "          await google.colab.output.renderOutput(dataTable, element);\n",
              "          const docLink = document.createElement('div');\n",
              "          docLink.innerHTML = docLinkHtml;\n",
              "          element.appendChild(docLink);\n",
              "        }\n",
              "      </script>\n",
              "    </div>\n",
              "  </div>\n",
              "  "
            ]
          },
          "metadata": {},
          "execution_count": 6
        }
      ]
    },
    {
      "cell_type": "markdown",
      "source": [
        "# Mean Square Error"
      ],
      "metadata": {
        "id": "8WV4jjAKPx9I"
      }
    },
    {
      "cell_type": "code",
      "metadata": {
        "id": "uRhL1pheAfCe",
        "colab": {
          "base_uri": "https://localhost:8080/"
        },
        "outputId": "b4eb53a0-02af-4f3f-ffdf-af611289591a"
      },
      "source": [
        "MSE = pow(df_d['y'] - df_d['pred'],2).sum()/df_d['y'].shape[0]\n",
        "\n",
        "from sklearn.metrics import mean_squared_error\n",
        "print(\"MSE from Sklearn : {}\".format(mean_squared_error(df_d['y'], df_d['pred'])))\n",
        "print(f\"MSE from scratch : {MSE}\")"
      ],
      "execution_count": 82,
      "outputs": [
        {
          "output_type": "stream",
          "name": "stdout",
          "text": [
            "MSE from Sklearn : 177.16569974554707\n",
            "MSE from scratch : 177.16569974554707\n"
          ]
        }
      ]
    },
    {
      "cell_type": "markdown",
      "source": [
        "# Mape"
      ],
      "metadata": {
        "id": "MnEueu98SiBP"
      }
    },
    {
      "cell_type": "markdown",
      "source": [
        "![image.png](data:image/png;base64,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)"
      ],
      "metadata": {
        "id": "elG6uuR8hDNG"
      }
    },
    {
      "cell_type": "code",
      "source": [
        "from sklearn.metrics import mean_absolute_percentage_error\n",
        "\n",
        "MAPE = ((abs((df_d['y'] - df_d['pred'])/(df_d['y'].mean())).sum())*(100/df_d['y'].shape[0]))\n",
        "print(f\"MAPE from SKlearn : {mean_absolute_percentage_error(df_d['y'], df_d['pred'])}\") # due to zero Ai this could give large va;ue\n",
        "print(f\"MAPE from SKlearn : {MAPE}\")"
      ],
      "metadata": {
        "id": "0vAO3s9RSMEX",
        "colab": {
          "base_uri": "https://localhost:8080/"
        },
        "outputId": "e7c39ffe-7b3d-4a4e-c39e-4ef104318a5b"
      },
      "execution_count": 85,
      "outputs": [
        {
          "output_type": "stream",
          "name": "stdout",
          "text": [
            "MAPE from SKlearn : 383407594230912.0\n",
            "MAPE from SKlearn : 12.912029940096868\n"
          ]
        }
      ]
    },
    {
      "cell_type": "markdown",
      "source": [
        "# R2"
      ],
      "metadata": {
        "id": "BeLmIj7cGT3C"
      }
    },
    {
      "cell_type": "markdown",
      "source": [
        "![image.png](data:image/png;base64,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)\n",
        "\n",
        "\n",
        "![image.png](data:image/png;base64,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)\n",
        "\n",
        "\n",
        "![image.png](data:image/png;base64,iVBORw0KGgoAAAANSUhEUgAAAIAAAAAvCAYAAAArdMLwAAAFeElEQVR4nO2cS3IjRRBAnwZY074A07oAbnEBSXCAkXfsxjoB9poI0GzZYBHB2vYFGHsOMLK5gAQXQHOBsbwhYiYCxCIr6e5S9c/q1seuF6GQ1EpXl1SZWZWZVQaPx/N0+WTbHXgCBMC3wAugD7wDFsAxMKtBfi2e1d2gJ0UETIE28DsygOfABBhUkH+NKINnjzgA7oChdT0ElsBphvxRhrzdjmfHeQXMgZbjsxnQsa6NEXfvkp8jXqF2/BTQHD3EcpcZn0+t9xHwPkf+r5r65dkQ18hgvkaUwWXZSW4qynt2nCNiD6CPc2SVX4e8Zw/oAVdIGKeDOsmRHzjkbxruo2cDtJAwTge2aEHXQpRH5Q8a7d2aREhnvasSAuAk47NXyIBGiWthjvzYyIe19c7i0zX//gwJaULEdfVoIFu1Z/TJNoYACfWSv1GePEZ+jijNC+AW+b0XyG8OkiV8buQuzbUe0DVy98BFxe9RSBsJTVQ7z1gNbZ4iY+KBSaKJHtvaLwvkj817NTK9puHiGTAyr6/M64h4wCMaWkeEpmFVgBHZMexTYoZY3XfElt1GFn8uK8ySnzrkR6QHM0B+82PE4vXzKNFmRHrKSWFPARFxOJL15VRb5+amSkjsfrZJxPamoZa5d4TM91eIG/4TsdTzDPkekhoukgf53RUd2HvT1i2Sf5ghyjA07YzJXmekCJE5aYYowYnpXM98oQWimfacpXP/thaCB6YP50i/H2sSZUTs7pUF6UJRRNrqtZZQmhaiZa489tA0luyEzjHbGny9/wXS58eqACFxJbGbuK5l4hAxAjVaNVTNRZSmjfyILneuCnBt3geIMujgn1W5UQNoOvWxKkDfPHrWZxEyDoOErIaXQ3KM0xUGauOulaNq3pVpdIK4IL1+n/cNPGuhXtnFjPS6R+UKDbKKAgyBl8AviCsKgTeOTnr2CJcCqDVrrKnzyBz4mjiXPQd+fMA9Q6olJVybJIrw4WhJbAVoIxmla2IP8DmiDFPyCxllmdP89qYW5ZSg7FqhqK3PzGNf+Af4AKsKoO7/lvRgj4EfEPdfR7ZvFyx0RHo1nUdWdk/5nod5w23xFvgGshXAtvTAel6Xqqv0JhRmVKEfRff/Cfh1ve5slI/6wlaALrKS/8O6fljjzatmDJeshj11UZdi/W0ee43G/y5Xp5sTdO6uvbJUE485D9AIz5AkwgT4zVw7NO+TBYSxeX6OJBcWm+pgCVrIwE+IPdVbVr+Dx0ELmdcjVq3GXgcMEfc9x12k2CZZUcWU3VDWPvAFUtvX6CqvaNUnru+XkX8w3lU2SwfxrG8QRQyRsPoOqfj9XEIe4F/kpNCuGZ4nhw4y0LZ30n0T9sEQlf8qQ76RgyGe5rjBvaDWzZ6299WKpks+64TR2viTQc3QQkJqO5xWNFqx5d+VlPfsOJqKvmP1lE/A6i7fg4rynj1ArVYH9or8otbMIe+PhO8xATKnJ0/5LMlWgqrynj2iT3xY9HYNed3pU5amUuieHCLcg5Tca1lFPrkxZ0C1Qb2gIHrwUUD9aMbUZokU2uxsXpG8KkyAlJwPce8J7Frt9JAdXF1Wcw7/4xWgfrq4D3O2gS9J79PTQ6Au+Y6R19zAkZHrkF4cnhFHDifEG0P7iWdfE9kQGs5NSVtjaK6Nc+SDEvI3pK3fPosZENc+NBTNnQLWPRzqSdND9jpcIoOl/9aljRyssXP5SfmZJX+K/LeQovsli10LpNbQI147+ATSBrF3TLXId7+uhFCevHoAPflzSnqR2CF9nFwH/5gM/BqgXuzS85L8Eq4dEdwVyGuFUAdYt+er0rxEpo1kuwF+DfBoiJAMYfKgZ4BMLxesWvqA1XWDx+PxGP4D6kNy26KY2KYAAAAASUVORK5CYII=)"
      ],
      "metadata": {
        "id": "rsJn1-MIGX9v"
      }
    },
    {
      "cell_type": "code",
      "source": [
        "from sklearn.metrics import r2_score\n",
        "\n",
        "SSres = pow(df_d['y']-df_d['pred'],2).sum()\n",
        "SStot = pow((df_d['y']-df_d['y'].mean()),2).sum()\n",
        "\n",
        "R2 = 1-(SSres/SStot)\n",
        "\n",
        "print(f\"R2 score form SKlearn : {r2_score(df_d['y'], df_d['pred'])}\")\n",
        "print(f\"R2 score from scratch {R2}\")"
      ],
      "metadata": {
        "colab": {
          "base_uri": "https://localhost:8080/"
        },
        "id": "w-GkmXpGiVz3",
        "outputId": "360ff87a-1a1d-4c30-db78-78399616478f"
      },
      "execution_count": 87,
      "outputs": [
        {
          "output_type": "stream",
          "name": "stdout",
          "text": [
            "R2 score form SKlearn : 0.9563582786990937\n",
            "R2 score from scratch 0.9563582786990937\n"
          ]
        }
      ]
    }
  ]
}